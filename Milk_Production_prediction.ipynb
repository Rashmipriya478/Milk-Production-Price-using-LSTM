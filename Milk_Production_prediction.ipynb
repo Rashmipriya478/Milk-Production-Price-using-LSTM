{
  "nbformat": 4,
  "nbformat_minor": 0,
  "metadata": {
    "colab": {
      "private_outputs": true,
      "provenance": []
    },
    "kernelspec": {
      "name": "python3",
      "display_name": "Python 3"
    },
    "language_info": {
      "name": "python"
    }
  },
  "cells": [
    {
      "cell_type": "markdown",
      "source": [
        "#Monthly milk production: pounds per cow. Jan 1962 - Dec 1975"
      ],
      "metadata": {
        "id": "UwFSF9E09gD8"
      }
    },
    {
      "cell_type": "code",
      "source": [
        "import numpy as np\n",
        "import pandas as pd\n",
        "import matplotlib.pyplot as plt\n",
        "from sklearn.preprocessing import MinMaxScaler\n",
        "from tensorflow.keras.models import Sequential\n",
        "from tensorflow.keras.layers import LSTM,Activation,Dense,Dropout\n",
        "%matplotlib inline"
      ],
      "metadata": {
        "id": "bhnG1uDN9jBF"
      },
      "execution_count": null,
      "outputs": []
    },
    {
      "cell_type": "code",
      "source": [
        "df = pd.read_csv('/content/monthly-milk-production.csv',index_col='Month')\n",
        "df.index = pd.to_datetime(df.index)\n",
        "df"
      ],
      "metadata": {
        "id": "gNS7SQIO9nrf"
      },
      "execution_count": null,
      "outputs": []
    },
    {
      "cell_type": "code",
      "source": [
        "df.plot()"
      ],
      "metadata": {
        "id": "K381qp2A9nv9"
      },
      "execution_count": null,
      "outputs": []
    },
    {
      "cell_type": "code",
      "source": [
        "scaler = MinMaxScaler()\n",
        "\n",
        "array = []\n",
        "train_data = []\n",
        "train_labels = []\n",
        "\n",
        "for i in range(len(df)):\n",
        "    array.append(df.iloc[i]['Milk Production'])\n",
        "\n",
        "array = np.array(array).reshape(-1,1)\n",
        "array = scaler.fit_transform(array)\n",
        "array"
      ],
      "metadata": {
        "id": "pjJ-lNJX9nzJ"
      },
      "execution_count": null,
      "outputs": []
    },
    {
      "cell_type": "code",
      "source": [
        "k = 0\n",
        "for i in range(len(array)):\n",
        "    try:\n",
        "        train_data.append(array[12*k:12*(k+1)])\n",
        "        train_labels.append(array[12*(k+1)])\n",
        "        k+=1\n",
        "    except:\n",
        "        break"
      ],
      "metadata": {
        "id": "VPcJrg3G9n1Q"
      },
      "execution_count": null,
      "outputs": []
    },
    {
      "cell_type": "code",
      "source": [
        "train_data = np.squeeze(train_data)\n",
        "train_data.shape"
      ],
      "metadata": {
        "id": "XgsXx3w_92im"
      },
      "execution_count": null,
      "outputs": []
    },
    {
      "cell_type": "code",
      "source": [
        "\n",
        "train_labels = np.array(train_labels)\n",
        "train_labels.shape"
      ],
      "metadata": {
        "id": "5TO_KP6092lp"
      },
      "execution_count": null,
      "outputs": []
    },
    {
      "cell_type": "code",
      "source": [
        "train_data = train_data[:len(train_labels)]\n",
        "train_data = np.expand_dims(train_data,1)\n",
        "train_data.shape"
      ],
      "metadata": {
        "id": "Zl2v-E7-92n7"
      },
      "execution_count": null,
      "outputs": []
    },
    {
      "cell_type": "code",
      "source": [
        "train_data[1]"
      ],
      "metadata": {
        "id": "Xtxlg7Zm9n4C"
      },
      "execution_count": null,
      "outputs": []
    },
    {
      "cell_type": "code",
      "source": [
        "train_labels[1]"
      ],
      "metadata": {
        "id": "dsgSdUW8-Dqy"
      },
      "execution_count": null,
      "outputs": []
    },
    {
      "cell_type": "code",
      "source": [
        "model = Sequential()\n",
        "\n",
        "model.add(LSTM(250,input_shape=(1,12)))\n",
        "model.add(Dropout(0.5))\n",
        "\n",
        "\n",
        "model.add(Dense(250,activation='relu'))\n",
        "model.add(Dropout(0.5))\n",
        "\n",
        "model.add(Dense(12,activation='relu'))\n",
        "model.add(Dropout(0.5))\n",
        "\n",
        "model.add(Dense(1,activation='relu'))\n",
        "\n",
        "model.compile(loss='mean_squared_error',optimizer='adam')\n",
        "\n",
        "model.summary()"
      ],
      "metadata": {
        "id": "eJft-ZkQ-DuC"
      },
      "execution_count": null,
      "outputs": []
    },
    {
      "cell_type": "code",
      "source": [
        "E = 1000\n",
        "\n",
        "H = model.fit(train_data,train_labels,epochs=E)"
      ],
      "metadata": {
        "id": "z0MyLRuJ-Dy5"
      },
      "execution_count": null,
      "outputs": []
    },
    {
      "cell_type": "code",
      "source": [
        "epochs = range(0,E)\n",
        "loss = H.history['loss']\n",
        "plt.plot(epochs,loss)"
      ],
      "metadata": {
        "id": "uv24Ajht-LJQ"
      },
      "execution_count": null,
      "outputs": []
    },
    {
      "cell_type": "code",
      "source": [
        "preds = scaler.inverse_transform(model.predict(train_data))\n",
        "plt.plot(range(0,13),preds,label='our predictions')\n",
        "plt.plot(range(0,13),scaler.inverse_transform(train_labels),label='real values')\n",
        "plt.legend()"
      ],
      "metadata": {
        "id": "8YEOkRFy-LLy"
      },
      "execution_count": null,
      "outputs": []
    },
    {
      "cell_type": "markdown",
      "source": [
        "#Now we have trained our model which takes previous 12 month data as input and predicts next month milk production. We will carry forward this method and predict production for next whole year."
      ],
      "metadata": {
        "id": "YuU2h-Bg-sD6"
      }
    },
    {
      "cell_type": "code",
      "source": [
        "seed = array[-12:]\n",
        "seed"
      ],
      "metadata": {
        "id": "1bkPeitP-xtX"
      },
      "execution_count": null,
      "outputs": []
    },
    {
      "cell_type": "code",
      "source": [
        "seed.shape"
      ],
      "metadata": {
        "id": "foA-e_fI-4L6"
      },
      "execution_count": null,
      "outputs": []
    },
    {
      "cell_type": "code",
      "source": [
        "for _ in range(12):\n",
        "    curr_12_months = seed[-12:]\n",
        "    curr_12_months = np.squeeze(curr_12_months)\n",
        "    curr_12_months = np.expand_dims(curr_12_months,0)\n",
        "    curr_12_months = np.expand_dims(curr_12_months,0)\n",
        "    pred = model.predict(curr_12_months)\n",
        "    seed = np.append(seed,pred)"
      ],
      "metadata": {
        "id": "S6RgBiBK-4O6"
      },
      "execution_count": null,
      "outputs": []
    },
    {
      "cell_type": "code",
      "source": [
        "seed"
      ],
      "metadata": {
        "id": "RtEpUKa6-9L8"
      },
      "execution_count": null,
      "outputs": []
    },
    {
      "cell_type": "code",
      "source": [
        "next_year_prediction = scaler.inverse_transform(seed[-12:].reshape(-1,1))\n",
        "plt.plot(range(0,12),next_year_prediction,marker='*',markerfacecolor='red',markersize=10)"
      ],
      "metadata": {
        "id": "FyjLwnPm_ADf"
      },
      "execution_count": null,
      "outputs": []
    }
  ]
}